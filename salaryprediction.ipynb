{
  "nbformat": 4,
  "nbformat_minor": 0,
  "metadata": {
    "colab": {
      "provenance": [],
      "authorship_tag": "ABX9TyOxUNsnbwaczMZVgdRai/4n",
      "include_colab_link": true
    },
    "kernelspec": {
      "name": "python3",
      "display_name": "Python 3"
    },
    "language_info": {
      "name": "python"
    }
  },
  "cells": [
    {
      "cell_type": "markdown",
      "metadata": {
        "id": "view-in-github",
        "colab_type": "text"
      },
      "source": [
        "<a href=\"https://colab.research.google.com/github/tahahamdii/salary-predicition/blob/main/salaryprediction.ipynb\" target=\"_parent\"><img src=\"https://colab.research.google.com/assets/colab-badge.svg\" alt=\"Open In Colab\"/></a>"
      ]
    },
    {
      "cell_type": "markdown",
      "source": [
        "# Importing necessary libraries\n"
      ],
      "metadata": {
        "id": "nOXTpnTB3rzV"
      }
    },
    {
      "cell_type": "code",
      "execution_count": 1,
      "metadata": {
        "id": "4sDtR-5t1-9C"
      },
      "outputs": [],
      "source": [
        "import pandas as pd\n",
        "import numpy as np\n",
        "import seaborn as sns\n",
        "import matplotlib.pyplot as plt\n",
        "from sklearn.preprocessing import StandardScaler, LabelEncoder\n",
        "from sklearn.cluster import KMeans\n",
        "from sklearn.model_selection import train_test_split\n",
        "from sklearn.linear_model import LinearRegression\n",
        "from sklearn.ensemble import RandomForestRegressor\n",
        "from sklearn.neural_network import MLPRegressor\n",
        "from sklearn.metrics import mean_squared_error, r2_score\n",
        "import joblib\n"
      ]
    },
    {
      "cell_type": "markdown",
      "source": [
        "\n",
        "# Step 2: Data Exploration and Cleaning\n",
        "# Display the first few rows of the dataset"
      ],
      "metadata": {
        "id": "BYgDmARK4Bsj"
      }
    },
    {
      "cell_type": "code",
      "source": [
        "data = pd.read_csv('/content/data.csv')\n",
        "\n",
        "print(data.head())"
      ],
      "metadata": {
        "colab": {
          "base_uri": "https://localhost:8080/"
        },
        "id": "NIYrEZQi35wi",
        "outputId": "7a614c68-9f73-47b9-dbd6-5c12ba5ada87"
      },
      "execution_count": 2,
      "outputs": [
        {
          "output_type": "stream",
          "name": "stdout",
          "text": [
            "                            ID_Employee          NAME_EMP GENDER  \\\n",
            "0  002dc89c-4da0-47dd-99c5-0d46d7018ba6  Ricardo Thompson      F   \n",
            "1  007d5408-fdc5-45d2-9e86-b9dffa069ae0     Chad Martinez      M   \n",
            "2  00aab275-6c85-4095-90ce-2f9157fe648d       Robert Ross      M   \n",
            "3  00b85c59-d569-447c-9a0f-734e46c93b79        Lisa Baker      M   \n",
            "4  00ca3496-ed2e-44a1-860b-d417f2f0b232    Jennifer Jones      F   \n",
            "\n",
            "                                             ADDRESS  MARITAL_STATUS  \\\n",
            "0          49958 Tyler Trail\\nNorth Carlos, GA 14076             1.0   \n",
            "1      884 Charlotte Stravenue\\nPort Diana, NM 15125             0.0   \n",
            "2         38607 Alvin Haven\\nPort Brittany, MD 83087             0.0   \n",
            "3        44888 Cooper Summit\\nPort Kristin, WV 26390             1.0   \n",
            "4  40612 Tucker Creek Suite 608\\nNew Justinport, ...             0.0   \n",
            "\n",
            "  TYPE_DIPLOMA  EXP_YEARS                         EMAIL  \\\n",
            "0      Licence       20.0  ricardo_thompson@example.com   \n",
            "1      Licence        3.0     chad_martinez@example.com   \n",
            "2     Engineer        3.0       robert_ross@example.com   \n",
            "3      Licence        8.0        lisa_baker@example.com   \n",
            "4       Master        0.0    jennifer_jones@example.com   \n",
            "\n",
            "                           LANGUAGE          Grade  ... STARTING_DATE  \\\n",
            "0  Arabe, Anglais, Others, Francais  Communication  ...    2020-08-24   \n",
            "1  Arabe, Anglais, Others, Francais       Director  ...    2018-02-18   \n",
            "2           Arabe, Others, Francais       Director  ...    2012-12-10   \n",
            "3          Arabe, Francais, Anglais       Director  ...    2010-04-07   \n",
            "4                  Others, Francais      Financier  ...    2015-06-10   \n",
            "\n",
            "                    REGISTRATION_NUMBER TYPE_CONTRACT       DEP_ID  \\\n",
            "0  e870265f-8a33-4e4c-90ab-6c5c3d38bfc9          CIVP  DEP_ADMIN00   \n",
            "1  d2f47d26-7b38-4e19-9fd6-6f1f800c6d8f           CDI  DEP_ADMIN00   \n",
            "2  69a14282-9f0f-4ee9-b505-152efe29710b          CIVP  DEP_ADMIN00   \n",
            "3  d55be9f6-933b-4917-afeb-91f853899837           CDI  DEP_ADMIN00   \n",
            "4  5f5759ad-21ff-4438-8191-466c54ab8160          CIVP  DEP_ADMIN00   \n",
            "\n",
            "  LEAVE_CONSUMED LEAVE_BALANCE  CONTRACT_START  CONTRACT_END TENURE  \\\n",
            "0             22            30      2020-08-24    2023-12-31    0.0   \n",
            "1              9             5      2018-02-18    2023-12-31    1.0   \n",
            "2             22             1      2012-12-10    2023-12-31    0.0   \n",
            "3             13             5      2010-04-07    2024-06-05    1.0   \n",
            "4             26            10      2015-06-10    2023-12-31    0.0   \n",
            "\n",
            "  SOURCE_of_employment  \n",
            "0  Recruitment Session  \n",
            "1     Free Application  \n",
            "2  Recruitment Session  \n",
            "3     Free Application  \n",
            "4       Recommendation  \n",
            "\n",
            "[5 rows x 22 columns]\n"
          ]
        }
      ]
    },
    {
      "cell_type": "code",
      "source": [
        "\n",
        "data['STARTING_DATE'] = pd.to_datetime(data['STARTING_DATE'])"
      ],
      "metadata": {
        "id": "ZQcoO7td4JBF"
      },
      "execution_count": 4,
      "outputs": []
    },
    {
      "cell_type": "markdown",
      "source": [
        "# Step 3: Descriptive Analytics - Clustering\n",
        "# Encode categorical variables for clustering"
      ],
      "metadata": {
        "id": "LmDmIr_e4bNT"
      }
    },
    {
      "cell_type": "code",
      "source": [
        "\n",
        "encoder = LabelEncoder()\n",
        "data['GENDER'] = encoder.fit_transform(data['GENDER'])\n",
        "data['MARITAL_STATUS'] = encoder.fit_transform(data['MARITAL_STATUS'])\n",
        "data['TYPE_DIPLOMA'] = encoder.fit_transform(data['TYPE_DIPLOMA'])\n",
        "data['POSITION'] = encoder.fit_transform(data['POSITION'])\n",
        "data['LANGUAGE'] = encoder.fit_transform(data['LANGUAGE'])\n"
      ],
      "metadata": {
        "id": "kd6i0-0z4UdL"
      },
      "execution_count": 5,
      "outputs": []
    },
    {
      "cell_type": "code",
      "source": [
        "features = data[['GENDER', 'MARITAL_STATUS', 'TYPE_DIPLOMA', 'EXP_YEARS', 'SALARY']]\n"
      ],
      "metadata": {
        "id": "CEDm-_ol4ro3"
      },
      "execution_count": 6,
      "outputs": []
    },
    {
      "cell_type": "markdown",
      "source": [
        "Standardizing the features"
      ],
      "metadata": {
        "id": "euexoXiT4wwU"
      }
    },
    {
      "cell_type": "code",
      "source": [
        "scaler = StandardScaler()\n",
        "scaled_features = scaler.fit_transform(features)\n"
      ],
      "metadata": {
        "id": "q3EuByUa4v01"
      },
      "execution_count": 7,
      "outputs": []
    },
    {
      "cell_type": "code",
      "source": [],
      "metadata": {
        "id": "WXs70Fe141jf"
      },
      "execution_count": null,
      "outputs": []
    }
  ]
}